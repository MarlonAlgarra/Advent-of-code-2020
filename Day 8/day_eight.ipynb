{
 "cells": [
  {
   "cell_type": "markdown",
   "metadata": {},
   "source": [
    "# Advent of Code: Day 8\n",
    "\n",
    "### Part one:"
   ]
  },
  {
   "cell_type": "code",
   "execution_count": 1,
   "metadata": {},
   "outputs": [
    {
     "name": "stdout",
     "output_type": "stream",
     "text": [
      "1331\n"
     ]
    }
   ],
   "source": [
    "with open(\"day8.txt\", \"r\") as f:\n",
    "    txt_list = [line.strip() for line in f]\n",
    "instruction=[]; number=[]\n",
    "for i in txt_list:\n",
    "    instruction.append(i[0:3])\n",
    "    if i[5]=='+':\n",
    "        number.append(int(i[6::]))\n",
    "    else:\n",
    "        number.append(int(i[4::]))\n",
    "def run_loop(instruction,number):\n",
    "    cache=[]; c=0; accumulator=0\n",
    "    while True:\n",
    "        if c in cache or c>=len(instruction):\n",
    "            cache.append(c)\n",
    "            break\n",
    "        else:\n",
    "            temp_instruction=instruction[c]\n",
    "            if temp_instruction=='acc':\n",
    "                cache.append(c)\n",
    "                accumulator=accumulator + number[c]\n",
    "                c=c+1\n",
    "            elif temp_instruction=='jmp':\n",
    "                cache.append(c)\n",
    "                c=c+number[c]\n",
    "            else:\n",
    "                c=c+1\n",
    "    return([accumulator,cache,c])\n",
    "result=run_loop(instruction,number)\n",
    "print(result[0])"
   ]
  },
  {
   "cell_type": "markdown",
   "metadata": {},
   "source": [
    "### Part two:"
   ]
  },
  {
   "cell_type": "code",
   "execution_count": 2,
   "metadata": {},
   "outputs": [
    {
     "name": "stdout",
     "output_type": "stream",
     "text": [
      "1121\n"
     ]
    }
   ],
   "source": [
    "for j in range(0,len(instruction)):\n",
    "    temp=instruction.copy()\n",
    "    if temp[j]=='jmp':\n",
    "        temp[j]='nop'\n",
    "    elif temp[j]=='nop':\n",
    "        temp[j]=='jmp'      \n",
    "    else:\n",
    "        continue\n",
    "    temp_result=run_loop(temp,number)\n",
    "    if temp_result[2]>=len(instruction):\n",
    "        print(temp_result[0])"
   ]
  }
 ],
 "metadata": {
  "kernelspec": {
   "display_name": "Python 3",
   "language": "python",
   "name": "python3"
  },
  "language_info": {
   "codemirror_mode": {
    "name": "ipython",
    "version": 3
   },
   "file_extension": ".py",
   "mimetype": "text/x-python",
   "name": "python",
   "nbconvert_exporter": "python",
   "pygments_lexer": "ipython3",
   "version": "3.7.4"
  }
 },
 "nbformat": 4,
 "nbformat_minor": 2
}
