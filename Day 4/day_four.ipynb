{
 "cells": [
  {
   "cell_type": "markdown",
   "metadata": {},
   "source": [
    "# Advent of code: Day 4\n",
    "\n",
    "### Part one:"
   ]
  },
  {
   "cell_type": "code",
   "execution_count": 1,
   "metadata": {},
   "outputs": [
    {
     "name": "stdout",
     "output_type": "stream",
     "text": [
      "200\n"
     ]
    }
   ],
   "source": [
    "with open(\"day4.txt\", \"r\") as f:\n",
    "    txt_list = [line.strip() for line in f]\n",
    "c=0; c1=0; passaport_list=[]; key_arguments=['byr','iyr','eyr','hgt','hcl','ecl','pid','cid']\n",
    "for i in txt_list:\n",
    "    if i=='':\n",
    "        passaport_list.append(' '.join(txt_list[c1:c]))\n",
    "        c1=c\n",
    "    c=c+1\n",
    "passaport_list.append(' '.join(txt_list[c1+1::]))\n",
    "contador=0\n",
    "present_passaport=[]\n",
    "for i in passaport_list:\n",
    "    temp_count=0\n",
    "    for j in key_arguments:\n",
    "        if i.count(j)==1:\n",
    "            temp_count=temp_count+1\n",
    "    if temp_count==7 and i.count('cid')==0:\n",
    "        contador=contador+1\n",
    "        present_passaport.append(i)\n",
    "    elif temp_count==8 and i.count('cid')==1:\n",
    "        contador=contador+1\n",
    "        present_passaport.append(i)\n",
    "print(contador)"
   ]
  },
  {
   "cell_type": "markdown",
   "metadata": {},
   "source": [
    "### Part two:"
   ]
  },
  {
   "cell_type": "code",
   "execution_count": 2,
   "metadata": {},
   "outputs": [],
   "source": [
    "def find_positions(i,key):\n",
    "    i=i+' '\n",
    "    temp=i.find(key)\n",
    "    if temp!=-1:\n",
    "        temp2=temp+1\n",
    "        while True:\n",
    "            if i[temp2]!=' ':\n",
    "                temp2=temp2+1\n",
    "            else:\n",
    "                break\n",
    "        return [temp+4,temp2]\n",
    "    else:\n",
    "        return False\n",
    "\n",
    "def check_key(string,key):\n",
    "    temp_string=string\n",
    "    if key=='byr':\n",
    "        if len(temp_string)==4:\n",
    "            temp_string=int(temp_string)\n",
    "            if temp_string>=1920 and temp_string<=2002:\n",
    "                return True\n",
    "            else:\n",
    "                return False\n",
    "        else:\n",
    "            return False\n",
    "    elif key=='iyr':\n",
    "        if len(temp_string)==4:\n",
    "            temp_string=int(temp_string)\n",
    "            if temp_string>=2010 and temp_string<=2020:\n",
    "                return True\n",
    "            else:\n",
    "                return False\n",
    "        else:\n",
    "            return False\n",
    "    elif key=='eyr':\n",
    "        if len(temp_string)==4:\n",
    "            temp_string=int(temp_string)\n",
    "            if temp_string>=2020 and temp_string<=2030:\n",
    "                return True\n",
    "            else:\n",
    "                return False\n",
    "        else:\n",
    "            return False\n",
    "    elif key=='hgt':\n",
    "        if temp_string[-2::]=='cm':\n",
    "            if int(temp_string[0:-2])>=150 and int(temp_string[0:-2])<=193:\n",
    "                return True\n",
    "            else:\n",
    "                return False\n",
    "        elif temp_string[-2::]=='in':\n",
    "            if int(temp_string[0:-2])>=59 and int(temp_string[0:-2])<=76:\n",
    "                return True\n",
    "            else:\n",
    "                return False\n",
    "        else:\n",
    "            return False\n",
    "    elif key=='hcl':\n",
    "        key_letters=['a','b','c','d','e','f']\n",
    "        if temp_string[0]=='#' and len(temp_string[1::])==6:\n",
    "            for i in temp_string[1::]:\n",
    "                if i in key_letters:\n",
    "                    return True\n",
    "                elif i.isdigit():\n",
    "                    if int(i)>=0 and int(i)<=9:\n",
    "                        return True\n",
    "                    else:\n",
    "                        return False\n",
    "                else:\n",
    "                    return False\n",
    "    elif key=='ecl':\n",
    "        key_letters=['amb', 'blu', 'brn', 'gry', 'grn', 'hzl', 'oth']\n",
    "        if temp_string in key_letters:\n",
    "            return True\n",
    "        else:\n",
    "            return False\n",
    "    elif key=='pid':\n",
    "        if len(temp_string)==9:\n",
    "            return True\n",
    "        else:\n",
    "            return False"
   ]
  },
  {
   "cell_type": "code",
   "execution_count": 3,
   "metadata": {},
   "outputs": [
    {
     "name": "stdout",
     "output_type": "stream",
     "text": [
      "116\n"
     ]
    }
   ],
   "source": [
    "key_arguments2=['byr','iyr','eyr','hgt','hcl','ecl','pid']    \n",
    "contador_two=0\n",
    "for i in present_passaport:\n",
    "    temp_control=0\n",
    "    for j in key_arguments2:      \n",
    "        temp=find_positions(i,j)\n",
    "        if temp:\n",
    "            temp_string=i[temp[0]:temp[1]]    \n",
    "            check=check_key(temp_string,j)\n",
    "            if check:\n",
    "                temp_control=temp_control+1\n",
    "    if temp_control==7:\n",
    "        contador_two=contador_two+1\n",
    "print(contador_two)"
   ]
  },
  {
   "cell_type": "code",
   "execution_count": null,
   "metadata": {},
   "outputs": [],
   "source": []
  }
 ],
 "metadata": {
  "kernelspec": {
   "display_name": "Python 3",
   "language": "python",
   "name": "python3"
  },
  "language_info": {
   "codemirror_mode": {
    "name": "ipython",
    "version": 3
   },
   "file_extension": ".py",
   "mimetype": "text/x-python",
   "name": "python",
   "nbconvert_exporter": "python",
   "pygments_lexer": "ipython3",
   "version": "3.7.4"
  }
 },
 "nbformat": 4,
 "nbformat_minor": 2
}
