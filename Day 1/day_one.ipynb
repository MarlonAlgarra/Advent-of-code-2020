{
 "cells": [
  {
   "cell_type": "markdown",
   "metadata": {},
   "source": [
    "# Advent of Code: Day one.\n",
    "\n",
    "### Part one:"
   ]
  },
  {
   "cell_type": "code",
   "execution_count": 1,
   "metadata": {},
   "outputs": [
    {
     "name": "stdout",
     "output_type": "stream",
     "text": [
      "719796\n"
     ]
    }
   ],
   "source": [
    "with open(\"day1.txt\", \"r\") as f:\n",
    "    txt_list = [int(line.strip()) for line in f]\n",
    "for n1, n2 in ((i, j) for i in txt_list for j in txt_list):\n",
    "    if n1+n2==2020:\n",
    "        print(n1*n2)\n",
    "        break"
   ]
  },
  {
   "cell_type": "markdown",
   "metadata": {},
   "source": [
    "### Part two:"
   ]
  },
  {
   "cell_type": "code",
   "execution_count": 2,
   "metadata": {},
   "outputs": [
    {
     "name": "stdout",
     "output_type": "stream",
     "text": [
      "144554112\n"
     ]
    }
   ],
   "source": [
    "for n1, n2, n3 in ((i, j, k) for i in txt_list for j in txt_list for k in txt_list):\n",
    "    if n1+n2+n3==2020:\n",
    "        print(n1*n2*n3)\n",
    "        break"
   ]
  }
 ],
 "metadata": {
  "kernelspec": {
   "display_name": "Python 3",
   "language": "python",
   "name": "python3"
  },
  "language_info": {
   "codemirror_mode": {
    "name": "ipython",
    "version": 3
   },
   "file_extension": ".py",
   "mimetype": "text/x-python",
   "name": "python",
   "nbconvert_exporter": "python",
   "pygments_lexer": "ipython3",
   "version": "3.7.4"
  }
 },
 "nbformat": 4,
 "nbformat_minor": 2
}
