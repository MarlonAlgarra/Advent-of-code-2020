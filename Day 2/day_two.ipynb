{
 "cells": [
  {
   "cell_type": "markdown",
   "metadata": {},
   "source": [
    "# Advent of Code: Day 2\n",
    "\n",
    "### Part one"
   ]
  },
  {
   "cell_type": "code",
   "execution_count": 45,
   "metadata": {},
   "outputs": [
    {
     "name": "stdout",
     "output_type": "stream",
     "text": [
      "542\n"
     ]
    }
   ],
   "source": [
    "with open(\"day2.txt\", \"r\") as f:\n",
    "    txt_list = [line.strip() for line in f]\n",
    "contador_one=0\n",
    "\n",
    "def password_info(i):\n",
    "        if i[1]=='-':\n",
    "            temp_min=int(i[0])\n",
    "            if i[3]==' ':\n",
    "                temp_max=int(i[2])\n",
    "                temp_key=i[4]\n",
    "                temp_pw =i[6::]\n",
    "            else:\n",
    "                temp_max=int(i[2:4])\n",
    "                temp_key=i[5]\n",
    "                temp_pw =i[7::]\n",
    "        else:\n",
    "            temp_min=int(i[0:2])\n",
    "            temp_max=int(i[3:5])\n",
    "            temp_key=i[6]\n",
    "            temp_pw =i[8::]\n",
    "        temp_pw=temp_pw.replace(\" \", \"\")\n",
    "        return [temp_min,temp_max,temp_key,temp_pw]\n",
    "\n",
    "for i in txt_list:\n",
    "    info=password_info(i); temp_min=info[0]; temp_max=info[1]; temp_key=info[2]; temp_pw=info[3]\n",
    "    string_count = temp_pw.count(temp_key)\n",
    "    if string_count>=temp_min and string_count<=temp_max:\n",
    "        contador_one=contador_one+1\n",
    "print(contador_one)"
   ]
  },
  {
   "cell_type": "markdown",
   "metadata": {},
   "source": [
    "### Part Two"
   ]
  },
  {
   "cell_type": "code",
   "execution_count": 47,
   "metadata": {},
   "outputs": [
    {
     "name": "stdout",
     "output_type": "stream",
     "text": [
      "360\n"
     ]
    }
   ],
   "source": [
    "contador_two=0\n",
    "for j in txt_list:\n",
    "    info=password_info(j); temp_min=info[0]; temp_max=info[1]; temp_key=info[2]; temp_pw=info[3]\n",
    "    if temp_pw[temp_min-1]==temp_key:\n",
    "        if temp_pw[temp_max-1]!=temp_key:\n",
    "            contador_two=contador_two+1\n",
    "            continue\n",
    "    elif temp_pw[temp_max-1]==temp_key: \n",
    "        if temp_pw[temp_min-1]!=temp_key:\n",
    "            contador_two=contador_two+1\n",
    "            continue\n",
    "print(contador_two)"
   ]
  },
  {
   "cell_type": "code",
   "execution_count": null,
   "metadata": {},
   "outputs": [],
   "source": []
  }
 ],
 "metadata": {
  "kernelspec": {
   "display_name": "Python 3",
   "language": "python",
   "name": "python3"
  },
  "language_info": {
   "codemirror_mode": {
    "name": "ipython",
    "version": 3
   },
   "file_extension": ".py",
   "mimetype": "text/x-python",
   "name": "python",
   "nbconvert_exporter": "python",
   "pygments_lexer": "ipython3",
   "version": "3.7.4"
  }
 },
 "nbformat": 4,
 "nbformat_minor": 2
}
