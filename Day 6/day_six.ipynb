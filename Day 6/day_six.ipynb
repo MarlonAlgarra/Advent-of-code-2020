{
 "cells": [
  {
   "cell_type": "markdown",
   "metadata": {},
   "source": [
    "# Advent of Code: Day 6\n",
    "\n",
    "### Part one:"
   ]
  },
  {
   "cell_type": "code",
   "execution_count": 11,
   "metadata": {},
   "outputs": [
    {
     "name": "stdout",
     "output_type": "stream",
     "text": [
      "6683\n"
     ]
    }
   ],
   "source": [
    "with open(\"day6.txt\", \"r\") as f:\n",
    "    txt_list = [line.strip() for line in f]\n",
    "c=0; c1=0; code_list=[];\n",
    "for i in txt_list:\n",
    "    if i=='':\n",
    "        code_list.append(' '.join(txt_list[c1:c]))\n",
    "        c1=c\n",
    "    c=c+1\n",
    "code_list.append(' '.join(txt_list[c1+1::]))\n",
    "contador=[]\n",
    "for j in code_list:\n",
    "    temp=set(j)\n",
    "    contador.append(len(temp)-1)\n",
    "print(sum(contador))"
   ]
  },
  {
   "cell_type": "markdown",
   "metadata": {},
   "source": [
    "### Part two:"
   ]
  },
  {
   "cell_type": "code",
   "execution_count": 51,
   "metadata": {},
   "outputs": [
    {
     "name": "stdout",
     "output_type": "stream",
     "text": [
      "3122\n"
     ]
    }
   ],
   "source": [
    "code_list1=[i.split(' ') for i in code_list]\n",
    "for i in code_list1:\n",
    "    if i[0]=='':\n",
    "        i.remove('')\n",
    "contador_two=[]\n",
    "for j in code_list1:\n",
    "    temp_len=len(j)\n",
    "    j=''.join(j)\n",
    "    key_list=list(set(j)); temp_count=[]\n",
    "    for i in key_list:\n",
    "        if j.count(i)==temp_len:\n",
    "            temp_count.append(i)\n",
    "    contador_two.append(len(temp_count))\n",
    "print(sum(contador_two))"
   ]
  },
  {
   "cell_type": "code",
   "execution_count": null,
   "metadata": {},
   "outputs": [],
   "source": []
  }
 ],
 "metadata": {
  "kernelspec": {
   "display_name": "Python 3",
   "language": "python",
   "name": "python3"
  },
  "language_info": {
   "codemirror_mode": {
    "name": "ipython",
    "version": 3
   },
   "file_extension": ".py",
   "mimetype": "text/x-python",
   "name": "python",
   "nbconvert_exporter": "python",
   "pygments_lexer": "ipython3",
   "version": "3.7.4"
  }
 },
 "nbformat": 4,
 "nbformat_minor": 2
}
