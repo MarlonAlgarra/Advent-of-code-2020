{
 "cells": [
  {
   "cell_type": "markdown",
   "metadata": {},
   "source": [
    "# Advent of Code: Day 5\n",
    "\n",
    "### Part one:"
   ]
  },
  {
   "cell_type": "code",
   "execution_count": 1,
   "metadata": {},
   "outputs": [
    {
     "name": "stdout",
     "output_type": "stream",
     "text": [
      "826\n"
     ]
    }
   ],
   "source": [
    "with open(\"day5.txt\", \"r\") as f:\n",
    "    txt_list = [line.strip() for line in f]\n",
    "def get_seat_id(x):\n",
    "    x1=[i for i in range(0,128)]\n",
    "    for i in x[0:7]:\n",
    "        if i=='F':\n",
    "            x1=x1[0:int(len(x1)/2)]\n",
    "        elif i=='B':\n",
    "            x1=x1[int(len(x1)/2)::]\n",
    "    x2=[i for i in range(0,8)]\n",
    "    for i in x[7::]:\n",
    "        if i=='L':\n",
    "            x2=x2[0:int(len(x2)/2)]\n",
    "        elif i=='R':\n",
    "            x2=x2[int(len(x2)/2)::]\n",
    "    return x1[0]*8+x2[0]\n",
    "cache_id=[]\n",
    "for i in txt_list:\n",
    "    cache_id.append(get_seat_id(i))\n",
    "print(max(cache_id))"
   ]
  },
  {
   "cell_type": "markdown",
   "metadata": {},
   "source": [
    "### Part two:"
   ]
  },
  {
   "cell_type": "code",
   "execution_count": 2,
   "metadata": {},
   "outputs": [
    {
     "name": "stdout",
     "output_type": "stream",
     "text": [
      "678\n"
     ]
    }
   ],
   "source": [
    "cache_id.sort()\n",
    "comparative=[i for i in range(min(cache_id),max(cache_id)+1)]\n",
    "for i in comparative:\n",
    "    if i not in cache_id:\n",
    "        print(i)"
   ]
  }
 ],
 "metadata": {
  "kernelspec": {
   "display_name": "Python 3",
   "language": "python",
   "name": "python3"
  },
  "language_info": {
   "codemirror_mode": {
    "name": "ipython",
    "version": 3
   },
   "file_extension": ".py",
   "mimetype": "text/x-python",
   "name": "python",
   "nbconvert_exporter": "python",
   "pygments_lexer": "ipython3",
   "version": "3.7.4"
  }
 },
 "nbformat": 4,
 "nbformat_minor": 2
}
