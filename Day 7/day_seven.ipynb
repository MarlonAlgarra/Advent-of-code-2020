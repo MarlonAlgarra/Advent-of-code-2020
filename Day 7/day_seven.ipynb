{
 "cells": [
  {
   "cell_type": "markdown",
   "metadata": {},
   "source": [
    "# Advent of Code: Day 7\n",
    "\n",
    "### Part one:"
   ]
  },
  {
   "cell_type": "code",
   "execution_count": 1,
   "metadata": {},
   "outputs": [],
   "source": [
    "with open(\"day7.txt\", \"r\") as f:\n",
    "    txt_list = [line.strip() for line in f]\n",
    "txt_list\n",
    "def get_info(x):\n",
    "    cord1=x.find('contain')\n",
    "    main_name=x[0:cord1-6]\n",
    "    main_string=x[cord1+8::]\n",
    "    name_list=[]; name_list.append(main_name)\n",
    "    c=0; c1=0\n",
    "    number_list=[]; number_list.append(main_string[0])\n",
    "    for i in main_string:\n",
    "        c=c+1\n",
    "        if i==',':\n",
    "            if main_string[c+1]=='n':\n",
    "                number_list.append('0')\n",
    "            else:\n",
    "                number_list.append(main_string[c+1])\n",
    "            \n",
    "            temp=main_string[c1+2:c-5].strip()\n",
    "            name_list.append(temp)\n",
    "            c1=c \n",
    "        elif i=='.':\n",
    "            temp=main_string[c1+2:c-5].strip()\n",
    "            name_list.append(temp)\n",
    "            c1=c \n",
    "    return [name_list,number_list]"
   ]
  },
  {
   "cell_type": "code",
   "execution_count": 2,
   "metadata": {},
   "outputs": [
    {
     "data": {
      "text/plain": [
       "115"
      ]
     },
     "execution_count": 2,
     "metadata": {},
     "output_type": "execute_result"
    }
   ],
   "source": [
    "color_dict={}\n",
    "number_dict={}\n",
    "for i in txt_list:\n",
    "    temp_list=get_info(i)\n",
    "    temp_list1=temp_list[0]\n",
    "    color_dict[temp_list1[0]]=temp_list1[1::]\n",
    "    number_dict[temp_list1[0]]=temp_list[1]\n",
    "\n",
    "key_list = list(color_dict.keys()); control_list=[]; control_list.append('shiny gold')\n",
    "for j in control_list:\n",
    "    for i in key_list:\n",
    "        temp=color_dict[i]\n",
    "        if j in temp:\n",
    "            control_list.append(i)       \n",
    "len(set(control_list[1::]))"
   ]
  },
  {
   "cell_type": "markdown",
   "metadata": {},
   "source": [
    "### Part two:"
   ]
  },
  {
   "cell_type": "code",
   "execution_count": 3,
   "metadata": {},
   "outputs": [
    {
     "name": "stdout",
     "output_type": "stream",
     "text": [
      "1250\n"
     ]
    }
   ],
   "source": [
    "for i in number_dict:\n",
    "    if 'n' in number_dict[i]:\n",
    "        number_dict[i]=['0']\n",
    "for i in color_dict:\n",
    "    if 'other' in color_dict[i]:\n",
    "        color_dict[i]=[]\n",
    "        \n",
    "def count_bags(bag):\n",
    "    count=[]\n",
    "    for in_bag in color_dict[bag]:\n",
    "        bag_count=int(number_dict[bag][color_dict[bag].index(in_bag)])\n",
    "        count.append(bag_count * (1 + count_bags(in_bag)))\n",
    "    return sum(count)\n",
    "print(count_bags('shiny gold'))"
   ]
  }
 ],
 "metadata": {
  "kernelspec": {
   "display_name": "Python 3",
   "language": "python",
   "name": "python3"
  },
  "language_info": {
   "codemirror_mode": {
    "name": "ipython",
    "version": 3
   },
   "file_extension": ".py",
   "mimetype": "text/x-python",
   "name": "python",
   "nbconvert_exporter": "python",
   "pygments_lexer": "ipython3",
   "version": "3.7.4"
  }
 },
 "nbformat": 4,
 "nbformat_minor": 2
}
