{
 "cells": [
  {
   "cell_type": "markdown",
   "metadata": {},
   "source": [
    "# Advent of Code: Day 9\n",
    "\n",
    "### Part one:"
   ]
  },
  {
   "cell_type": "code",
   "execution_count": 1,
   "metadata": {},
   "outputs": [
    {
     "name": "stdout",
     "output_type": "stream",
     "text": [
      "1212510616\n"
     ]
    }
   ],
   "source": [
    "with open(\"day9.txt\", \"r\") as f:\n",
    "    txt_list = [int(line.strip()) for line in f]\n",
    "lower=0; upper=25; \n",
    "for i in txt_list: \n",
    "    control=0\n",
    "    temp=txt_list[lower:upper].copy()\n",
    "    for j,k in ((t,t1) for t in temp for t1 in temp):\n",
    "        if j+k==txt_list[upper]:\n",
    "            control=1\n",
    "            break\n",
    "    if control==0:\n",
    "        break\n",
    "    upper=upper+1; lower=lower+1\n",
    "bad_number=txt_list[upper]\n",
    "print(bad_number)"
   ]
  },
  {
   "cell_type": "markdown",
   "metadata": {},
   "source": [
    "### Parto two:"
   ]
  },
  {
   "cell_type": "code",
   "execution_count": 2,
   "metadata": {},
   "outputs": [
    {
     "name": "stdout",
     "output_type": "stream",
     "text": [
      "171265123\n"
     ]
    }
   ],
   "source": [
    "for i in range(0,len(txt_list)-1):\n",
    "    temp0=i; temp=i+1; cont_list=[]; control=0\n",
    "    cont_list.append(txt_list[temp0])\n",
    "    cont_list.append(txt_list[temp])\n",
    "    while True:\n",
    "        if sum(cont_list)==bad_number:\n",
    "            control=1\n",
    "            break\n",
    "        elif sum(cont_list)<bad_number:\n",
    "            temp=temp+1\n",
    "            cont_list.append(txt_list[temp])\n",
    "        else:\n",
    "            break\n",
    "    if control==1:\n",
    "        print(max(cont_list)+min(cont_list))"
   ]
  }
 ],
 "metadata": {
  "kernelspec": {
   "display_name": "Python 3",
   "language": "python",
   "name": "python3"
  },
  "language_info": {
   "codemirror_mode": {
    "name": "ipython",
    "version": 3
   },
   "file_extension": ".py",
   "mimetype": "text/x-python",
   "name": "python",
   "nbconvert_exporter": "python",
   "pygments_lexer": "ipython3",
   "version": "3.7.4"
  }
 },
 "nbformat": 4,
 "nbformat_minor": 2
}
