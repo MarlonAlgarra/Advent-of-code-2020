{
 "cells": [
  {
   "cell_type": "markdown",
   "metadata": {},
   "source": [
    "# Advent of code: Day 3\n",
    "\n",
    "### Part one:"
   ]
  },
  {
   "cell_type": "code",
   "execution_count": 1,
   "metadata": {},
   "outputs": [
    {
     "name": "stdout",
     "output_type": "stream",
     "text": [
      "203\n"
     ]
    }
   ],
   "source": [
    "with open(\"day3.txt\", \"r\") as f:\n",
    "    txt_list = [line.strip() for line in f]\n",
    "\n",
    "def check_slope(txt_list,a,b):\n",
    "    contador=0\n",
    "    y=[num for num in range(1,len(txt_list)) if num%b==0]\n",
    "    x=[a*i%len(txt_list[0]) for i in range(1,len(y)+1)]\n",
    "    for i in range(0,len(x)):\n",
    "        temp=txt_list[y[i]]\n",
    "        temp_2 = temp[x[i]]\n",
    "        if temp_2=='#':\n",
    "            contador=contador+1\n",
    "    return contador\n",
    "part_one=check_slope(txt_list,3,1)\n",
    "print(part_one)"
   ]
  },
  {
   "cell_type": "markdown",
   "metadata": {},
   "source": [
    "### Part two:"
   ]
  },
  {
   "cell_type": "code",
   "execution_count": 3,
   "metadata": {},
   "outputs": [
    {
     "name": "stdout",
     "output_type": "stream",
     "text": [
      "3316272960\n"
     ]
    }
   ],
   "source": [
    "reglas = [[1,1],[3,1],[5,1],[7,1],[1,2]]\n",
    "resultados=[]\n",
    "result=1\n",
    "for i in reglas:\n",
    "    result=result*check_slope(txt_list,i[0],i[1])\n",
    "print(result)"
   ]
  }
 ],
 "metadata": {
  "kernelspec": {
   "display_name": "Python 3",
   "language": "python",
   "name": "python3"
  },
  "language_info": {
   "codemirror_mode": {
    "name": "ipython",
    "version": 3
   },
   "file_extension": ".py",
   "mimetype": "text/x-python",
   "name": "python",
   "nbconvert_exporter": "python",
   "pygments_lexer": "ipython3",
   "version": "3.7.4"
  }
 },
 "nbformat": 4,
 "nbformat_minor": 2
}
